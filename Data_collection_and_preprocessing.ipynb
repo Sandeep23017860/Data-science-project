{
  "nbformat": 4,
  "nbformat_minor": 0,
  "metadata": {
    "colab": {
      "provenance": [],
      "authorship_tag": "ABX9TyMZxFn35yi0m3WrIMZKEhPf",
      "include_colab_link": true
    },
    "kernelspec": {
      "name": "python3",
      "display_name": "Python 3"
    },
    "language_info": {
      "name": "python"
    }
  },
  "cells": [
    {
      "cell_type": "markdown",
      "metadata": {
        "id": "view-in-github",
        "colab_type": "text"
      },
      "source": [
        "<a href=\"https://colab.research.google.com/github/Sandeep23017860/Data-science-project/blob/main/Data_collection_and_preprocessing.ipynb\" target=\"_parent\"><img src=\"https://colab.research.google.com/assets/colab-badge.svg\" alt=\"Open In Colab\"/></a>"
      ]
    },
    {
      "cell_type": "code",
      "execution_count": 1,
      "metadata": {
        "colab": {
          "base_uri": "https://localhost:8080/"
        },
        "id": "Y03tfnwAm9Bm",
        "outputId": "2e19281d-d961-4a1f-e3b8-13f748f81db1"
      },
      "outputs": [
        {
          "output_type": "stream",
          "name": "stdout",
          "text": [
            "Requirement already satisfied: yfinance in /usr/local/lib/python3.11/dist-packages (0.2.54)\n",
            "Requirement already satisfied: pandas>=1.3.0 in /usr/local/lib/python3.11/dist-packages (from yfinance) (2.2.2)\n",
            "Requirement already satisfied: numpy>=1.16.5 in /usr/local/lib/python3.11/dist-packages (from yfinance) (1.26.4)\n",
            "Requirement already satisfied: requests>=2.31 in /usr/local/lib/python3.11/dist-packages (from yfinance) (2.32.3)\n",
            "Requirement already satisfied: multitasking>=0.0.7 in /usr/local/lib/python3.11/dist-packages (from yfinance) (0.0.11)\n",
            "Requirement already satisfied: platformdirs>=2.0.0 in /usr/local/lib/python3.11/dist-packages (from yfinance) (4.3.6)\n",
            "Requirement already satisfied: pytz>=2022.5 in /usr/local/lib/python3.11/dist-packages (from yfinance) (2025.1)\n",
            "Requirement already satisfied: frozendict>=2.3.4 in /usr/local/lib/python3.11/dist-packages (from yfinance) (2.4.6)\n",
            "Requirement already satisfied: peewee>=3.16.2 in /usr/local/lib/python3.11/dist-packages (from yfinance) (3.17.9)\n",
            "Requirement already satisfied: beautifulsoup4>=4.11.1 in /usr/local/lib/python3.11/dist-packages (from yfinance) (4.13.3)\n",
            "Requirement already satisfied: soupsieve>1.2 in /usr/local/lib/python3.11/dist-packages (from beautifulsoup4>=4.11.1->yfinance) (2.6)\n",
            "Requirement already satisfied: typing-extensions>=4.0.0 in /usr/local/lib/python3.11/dist-packages (from beautifulsoup4>=4.11.1->yfinance) (4.12.2)\n",
            "Requirement already satisfied: python-dateutil>=2.8.2 in /usr/local/lib/python3.11/dist-packages (from pandas>=1.3.0->yfinance) (2.8.2)\n",
            "Requirement already satisfied: tzdata>=2022.7 in /usr/local/lib/python3.11/dist-packages (from pandas>=1.3.0->yfinance) (2025.1)\n",
            "Requirement already satisfied: charset-normalizer<4,>=2 in /usr/local/lib/python3.11/dist-packages (from requests>=2.31->yfinance) (3.4.1)\n",
            "Requirement already satisfied: idna<4,>=2.5 in /usr/local/lib/python3.11/dist-packages (from requests>=2.31->yfinance) (3.10)\n",
            "Requirement already satisfied: urllib3<3,>=1.21.1 in /usr/local/lib/python3.11/dist-packages (from requests>=2.31->yfinance) (2.3.0)\n",
            "Requirement already satisfied: certifi>=2017.4.17 in /usr/local/lib/python3.11/dist-packages (from requests>=2.31->yfinance) (2025.1.31)\n",
            "Requirement already satisfied: six>=1.5 in /usr/local/lib/python3.11/dist-packages (from python-dateutil>=2.8.2->pandas>=1.3.0->yfinance) (1.17.0)\n"
          ]
        }
      ],
      "source": [
        "pip install yfinance"
      ]
    },
    {
      "cell_type": "code",
      "source": [
        "import yfinance as yf\n",
        "import pandas as pd\n",
        "\n",
        "# Define the stock symbol\n",
        "stock_symbol = \"MSFT\"\n",
        "\n",
        "# Download data from the earliest available date to 1st Feb 2025\n",
        "msft_data = yf.download(stock_symbol, start=\"1986-03-13\", end=\"2025-02-01\")\n",
        "\n",
        "# Save to CSV\n",
        "msft_data.to_csv(\"microsoft_stock_data.csv\")\n",
        "\n",
        "print(\"Data successfully saved as 'microsoft_stock_data.csv'\")\n"
      ],
      "metadata": {
        "colab": {
          "base_uri": "https://localhost:8080/"
        },
        "id": "-5oRzBfYnDeV",
        "outputId": "c8748928-0be3-43e6-88e0-8741c13939d1"
      },
      "execution_count": 2,
      "outputs": [
        {
          "output_type": "stream",
          "name": "stdout",
          "text": [
            "YF.download() has changed argument auto_adjust default to True\n"
          ]
        },
        {
          "output_type": "stream",
          "name": "stderr",
          "text": [
            "\r[*********************100%***********************]  1 of 1 completed"
          ]
        },
        {
          "output_type": "stream",
          "name": "stdout",
          "text": [
            "Data successfully saved as 'microsoft_stock_data.csv'\n"
          ]
        },
        {
          "output_type": "stream",
          "name": "stderr",
          "text": [
            "\n"
          ]
        }
      ]
    },
    {
      "cell_type": "code",
      "source": [
        "from google.colab import files\n",
        "import yfinance as yf\n",
        "import pandas as pd\n",
        "\n",
        "# Define the stock symbol\n",
        "stock_symbol = \"MSFT\"\n",
        "\n",
        "# Download data from the earliest available date to 1st Feb 2025\n",
        "msft_data = yf.download(stock_symbol, start=\"1986-03-13\", end=\"2025-02-01\")\n",
        "\n",
        "# Save to CSV in the Colab environment\n",
        "msft_data.to_csv(\"microsoft_stock_data.csv\")\n",
        "\n",
        "# Download the file to your local machine\n",
        "files.download(\"microsoft_stock_data.csv\")"
      ],
      "metadata": {
        "colab": {
          "base_uri": "https://localhost:8080/",
          "height": 34
        },
        "id": "VotGqx8YnJt1",
        "outputId": "d61f38fd-b32f-419a-c0dc-fa7f1d7a2280"
      },
      "execution_count": 4,
      "outputs": [
        {
          "output_type": "stream",
          "name": "stderr",
          "text": [
            "\r[*********************100%***********************]  1 of 1 completed\n"
          ]
        },
        {
          "output_type": "display_data",
          "data": {
            "text/plain": [
              "<IPython.core.display.Javascript object>"
            ],
            "application/javascript": [
              "\n",
              "    async function download(id, filename, size) {\n",
              "      if (!google.colab.kernel.accessAllowed) {\n",
              "        return;\n",
              "      }\n",
              "      const div = document.createElement('div');\n",
              "      const label = document.createElement('label');\n",
              "      label.textContent = `Downloading \"${filename}\": `;\n",
              "      div.appendChild(label);\n",
              "      const progress = document.createElement('progress');\n",
              "      progress.max = size;\n",
              "      div.appendChild(progress);\n",
              "      document.body.appendChild(div);\n",
              "\n",
              "      const buffers = [];\n",
              "      let downloaded = 0;\n",
              "\n",
              "      const channel = await google.colab.kernel.comms.open(id);\n",
              "      // Send a message to notify the kernel that we're ready.\n",
              "      channel.send({})\n",
              "\n",
              "      for await (const message of channel.messages) {\n",
              "        // Send a message to notify the kernel that we're ready.\n",
              "        channel.send({})\n",
              "        if (message.buffers) {\n",
              "          for (const buffer of message.buffers) {\n",
              "            buffers.push(buffer);\n",
              "            downloaded += buffer.byteLength;\n",
              "            progress.value = downloaded;\n",
              "          }\n",
              "        }\n",
              "      }\n",
              "      const blob = new Blob(buffers, {type: 'application/binary'});\n",
              "      const a = document.createElement('a');\n",
              "      a.href = window.URL.createObjectURL(blob);\n",
              "      a.download = filename;\n",
              "      div.appendChild(a);\n",
              "      a.click();\n",
              "      div.remove();\n",
              "    }\n",
              "  "
            ]
          },
          "metadata": {}
        },
        {
          "output_type": "display_data",
          "data": {
            "text/plain": [
              "<IPython.core.display.Javascript object>"
            ],
            "application/javascript": [
              "download(\"download_a0b47953-264d-47c5-b5d9-346d3841fade\", \"microsoft_stock_data.csv\", 927453)"
            ]
          },
          "metadata": {}
        }
      ]
    },
    {
      "cell_type": "code",
      "source": [
        "df = pd.read_csv(\"microsoft_stock_data.csv\")\n",
        "print(df.columns)  # Print available column names\n",
        "print(df.head())   # Display first few rows"
      ],
      "metadata": {
        "colab": {
          "base_uri": "https://localhost:8080/"
        },
        "id": "w9976szhnxHy",
        "outputId": "24ce193f-af8f-4b1c-b094-baffc73d086b"
      },
      "execution_count": 6,
      "outputs": [
        {
          "output_type": "stream",
          "name": "stdout",
          "text": [
            "Index(['Price', 'Close', 'High', 'Low', 'Open', 'Volume'], dtype='object')\n",
            "        Price                 Close                 High  \\\n",
            "0      Ticker                  MSFT                 MSFT   \n",
            "1        Date                   NaN                  NaN   \n",
            "2  1986-03-13  0.059826746582984924  0.06249803328621482   \n",
            "3  1986-03-14    0.0619632713496685  0.06303215442329205   \n",
            "4  1986-03-17   0.06303215026855469  0.06356628458823137   \n",
            "\n",
            "                    Low                  Open      Volume  \n",
            "0                  MSFT                  MSFT        MSFT  \n",
            "1                   NaN                   NaN         NaN  \n",
            "2   0.05448540190449644   0.05448540190449644  1031788800  \n",
            "3  0.059826733930132846  0.059826733930132846   308160000  \n",
            "4   0.06196326726538611   0.06196326726538611   133171200  \n"
          ]
        }
      ]
    },
    {
      "cell_type": "code",
      "source": [
        "df = pd.read_csv(\"microsoft_stock_data.csv\", skiprows=2)\n",
        "print(df.head())  # Check if the first rows now look correct\n"
      ],
      "metadata": {
        "colab": {
          "base_uri": "https://localhost:8080/"
        },
        "id": "dQAqi8pVo6dq",
        "outputId": "d01fb729-1104-49cc-eff0-d930f2bb417c"
      },
      "execution_count": 7,
      "outputs": [
        {
          "output_type": "stream",
          "name": "stdout",
          "text": [
            "         Date  Unnamed: 1  Unnamed: 2  Unnamed: 3  Unnamed: 4  Unnamed: 5\n",
            "0  1986-03-13    0.059827    0.062498    0.054485    0.054485  1031788800\n",
            "1  1986-03-14    0.061963    0.063032    0.059827    0.059827   308160000\n",
            "2  1986-03-17    0.063032    0.063566    0.061963    0.061963   133171200\n",
            "3  1986-03-18    0.061429    0.063566    0.060895    0.063032    67766400\n",
            "4  1986-03-19    0.060361    0.061963    0.059827    0.061429    47894400\n"
          ]
        }
      ]
    },
    {
      "cell_type": "code",
      "source": [
        "df = pd.read_csv(\"microsoft_stock_data.csv\", skiprows=2, index_col=\"Date\", parse_dates=True)\n",
        "print(df.head())  # Should now show Date as index\n"
      ],
      "metadata": {
        "colab": {
          "base_uri": "https://localhost:8080/"
        },
        "id": "OFr9d5K8o8U7",
        "outputId": "15228e31-d062-49f5-9bc2-681c87fcfc0e"
      },
      "execution_count": 8,
      "outputs": [
        {
          "output_type": "stream",
          "name": "stdout",
          "text": [
            "            Unnamed: 1  Unnamed: 2  Unnamed: 3  Unnamed: 4  Unnamed: 5\n",
            "Date                                                                  \n",
            "1986-03-13    0.059827    0.062498    0.054485    0.054485  1031788800\n",
            "1986-03-14    0.061963    0.063032    0.059827    0.059827   308160000\n",
            "1986-03-17    0.063032    0.063566    0.061963    0.061963   133171200\n",
            "1986-03-18    0.061429    0.063566    0.060895    0.063032    67766400\n",
            "1986-03-19    0.060361    0.061963    0.059827    0.061429    47894400\n"
          ]
        }
      ]
    },
    {
      "cell_type": "code",
      "source": [
        "# Rename the columns to the desired names, the date column will not be affected by this rename operation.\n",
        "df.rename(columns={\n",
        "    \"Unnamed: 0\": \"Date\",\n",
        "    \"Close\": \"Close\",\n",
        "    \"High\": \"High\",\n",
        "    \"Low\": \"Low\",\n",
        "    \"Open\": \"Open\",\n",
        "    \"Volume\": \"Volume\"\n",
        "}, inplace=True)\n",
        "\n",
        "print(df.head())  # Check if column names are correctly updated\n"
      ],
      "metadata": {
        "colab": {
          "base_uri": "https://localhost:8080/"
        },
        "id": "9RFBzpUNpsuL",
        "outputId": "27cd649d-4b88-47e7-a1bf-e665c6bf031f"
      },
      "execution_count": 16,
      "outputs": [
        {
          "output_type": "stream",
          "name": "stdout",
          "text": [
            "               Close      High       Low      Open      Volume\n",
            "Date                                                          \n",
            "1986-03-13  0.059827  0.062498  0.054485  0.054485  1031788800\n",
            "1986-03-14  0.061963  0.063032  0.059827  0.059827   308160000\n",
            "1986-03-17  0.063032  0.063566  0.061963  0.061963   133171200\n",
            "1986-03-18  0.061429  0.063566  0.060895  0.063032    67766400\n",
            "1986-03-19  0.060361  0.061963  0.059827  0.061429    47894400\n"
          ]
        }
      ]
    },
    {
      "cell_type": "code",
      "source": [
        "import pandas as pd\n",
        "import numpy as np\n",
        "from sklearn.preprocessing import MinMaxScaler\n",
        "\n",
        "# Display basic info\n",
        "print(\"Original Data Sample:\\n\", df.head())"
      ],
      "metadata": {
        "colab": {
          "base_uri": "https://localhost:8080/"
        },
        "id": "6cUJySUxpvYf",
        "outputId": "94a50bb6-243a-42f3-a3fc-55365aa9bd64"
      },
      "execution_count": 17,
      "outputs": [
        {
          "output_type": "stream",
          "name": "stdout",
          "text": [
            "Original Data Sample:\n",
            "                Close      High       Low      Open      Volume\n",
            "Date                                                          \n",
            "1986-03-13  0.059827  0.062498  0.054485  0.054485  1031788800\n",
            "1986-03-14  0.061963  0.063032  0.059827  0.059827   308160000\n",
            "1986-03-17  0.063032  0.063566  0.061963  0.061963   133171200\n",
            "1986-03-18  0.061429  0.063566  0.060895  0.063032    67766400\n",
            "1986-03-19  0.060361  0.061963  0.059827  0.061429    47894400\n"
          ]
        }
      ]
    },
    {
      "cell_type": "code",
      "source": [
        "#Handle Missing Values\n",
        "df = df.fillna(method=\"ffill\")  # Forward fill missing values\n",
        "df = df.fillna(method=\"bfill\")  # Backward fill if any remain"
      ],
      "metadata": {
        "colab": {
          "base_uri": "https://localhost:8080/"
        },
        "id": "_IrQ-HdVqcU6",
        "outputId": "e4f836ed-d8cb-46a0-ea27-e5d9f847a974"
      },
      "execution_count": 18,
      "outputs": [
        {
          "output_type": "stream",
          "name": "stderr",
          "text": [
            "<ipython-input-18-1a085a02be05>:2: FutureWarning: DataFrame.fillna with 'method' is deprecated and will raise in a future version. Use obj.ffill() or obj.bfill() instead.\n",
            "  df = df.fillna(method=\"ffill\")  # Forward fill missing values\n",
            "<ipython-input-18-1a085a02be05>:3: FutureWarning: DataFrame.fillna with 'method' is deprecated and will raise in a future version. Use obj.ffill() or obj.bfill() instead.\n",
            "  df = df.fillna(method=\"bfill\")  # Backward fill if any remain\n"
          ]
        }
      ]
    },
    {
      "cell_type": "code",
      "source": [
        "#Feature Engineering\n",
        "df[\"Daily Return\"] = df[\"Close\"].pct_change()  # Percentage daily return\n",
        "df[\"Log Return\"] = np.log1p(df[\"Daily Return\"])  # Log return\n",
        "# Moving Averages\n",
        "df[\"MA_5\"] = df[\"Close\"].rolling(window=5).mean()  # 5-day Moving Average\n",
        "df[\"MA_20\"] = df[\"Close\"].rolling(window=20).mean()  # 20-day Moving Average\n",
        "df[\"MA_50\"] = df[\"Close\"].rolling(window=50).mean()  # 50-day Moving Average\n",
        "\n",
        "# Volatility (Standard Deviation)\n",
        "df[\"Volatility_10\"] = df[\"Daily Return\"].rolling(window=10).std()\n",
        "\n",
        "# Momentum Indicators\n",
        "df[\"Momentum_5\"] = df[\"Close\"] - df[\"Close\"].shift(5)  # Momentum over 5 days"
      ],
      "metadata": {
        "id": "vp01hz1oqjpY"
      },
      "execution_count": 22,
      "outputs": []
    },
    {
      "cell_type": "code",
      "source": [
        "#Normalize Data (Min-Max Scaling)\n",
        "scaler = MinMaxScaler()\n",
        "df_scaled = pd.DataFrame(scaler.fit_transform(df.dropna()), columns=df.columns, index=df.dropna().index)\n",
        "\n",
        "# Save the processed data\n",
        "df_scaled.to_csv(\"processed_microsoft_stock_data.csv\")\n",
        "\n",
        "print(\"\\n✅ Data Preprocessing Completed! Processed data saved as 'processed_microsoft_stock_data.csv'\")\n"
      ],
      "metadata": {
        "colab": {
          "base_uri": "https://localhost:8080/"
        },
        "id": "TD38vDMErtSl",
        "outputId": "71ec2100-883e-4a72-8a1a-d01f6a71cc02"
      },
      "execution_count": 23,
      "outputs": [
        {
          "output_type": "stream",
          "name": "stdout",
          "text": [
            "\n",
            "✅ Data Preprocessing Completed! Processed data saved as 'processed_microsoft_stock_data.csv'\n"
          ]
        }
      ]
    },
    {
      "cell_type": "code",
      "source": [
        "from google.colab import files\n",
        "files.download(\"processed_microsoft_stock_data.csv\")\n"
      ],
      "metadata": {
        "colab": {
          "base_uri": "https://localhost:8080/",
          "height": 17
        },
        "id": "CpJp6Eossc2Z",
        "outputId": "a5a46dec-db89-4231-e845-2ddcaa98d545"
      },
      "execution_count": 24,
      "outputs": [
        {
          "output_type": "display_data",
          "data": {
            "text/plain": [
              "<IPython.core.display.Javascript object>"
            ],
            "application/javascript": [
              "\n",
              "    async function download(id, filename, size) {\n",
              "      if (!google.colab.kernel.accessAllowed) {\n",
              "        return;\n",
              "      }\n",
              "      const div = document.createElement('div');\n",
              "      const label = document.createElement('label');\n",
              "      label.textContent = `Downloading \"${filename}\": `;\n",
              "      div.appendChild(label);\n",
              "      const progress = document.createElement('progress');\n",
              "      progress.max = size;\n",
              "      div.appendChild(progress);\n",
              "      document.body.appendChild(div);\n",
              "\n",
              "      const buffers = [];\n",
              "      let downloaded = 0;\n",
              "\n",
              "      const channel = await google.colab.kernel.comms.open(id);\n",
              "      // Send a message to notify the kernel that we're ready.\n",
              "      channel.send({})\n",
              "\n",
              "      for await (const message of channel.messages) {\n",
              "        // Send a message to notify the kernel that we're ready.\n",
              "        channel.send({})\n",
              "        if (message.buffers) {\n",
              "          for (const buffer of message.buffers) {\n",
              "            buffers.push(buffer);\n",
              "            downloaded += buffer.byteLength;\n",
              "            progress.value = downloaded;\n",
              "          }\n",
              "        }\n",
              "      }\n",
              "      const blob = new Blob(buffers, {type: 'application/binary'});\n",
              "      const a = document.createElement('a');\n",
              "      a.href = window.URL.createObjectURL(blob);\n",
              "      a.download = filename;\n",
              "      div.appendChild(a);\n",
              "      a.click();\n",
              "      div.remove();\n",
              "    }\n",
              "  "
            ]
          },
          "metadata": {}
        },
        {
          "output_type": "display_data",
          "data": {
            "text/plain": [
              "<IPython.core.display.Javascript object>"
            ],
            "application/javascript": [
              "download(\"download_10e0eaa4-02cb-498e-916c-ebac516f5bd9\", \"processed_microsoft_stock_data.csv\", 2443588)"
            ]
          },
          "metadata": {}
        }
      ]
    }
  ]
}